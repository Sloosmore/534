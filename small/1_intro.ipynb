{
 "cells": [
  {
   "cell_type": "code",
   "execution_count": 1,
   "metadata": {},
   "outputs": [],
   "source": [
    "import torch\n",
    "import torch.nn as nn\n",
    "import torch.optim as optim\n",
    "import torchvision\n",
    "import torchvision.transforms as transforms\n",
    "from torch.utils.data import DataLoader"
   ]
  },
  {
   "cell_type": "code",
   "execution_count": 5,
   "metadata": {},
   "outputs": [
    {
     "name": "stdout",
     "output_type": "stream",
     "text": [
      "Downloading http://yann.lecun.com/exdb/mnist/train-images-idx3-ubyte.gz\n",
      "Failed to download (trying next):\n",
      "HTTP Error 403: Forbidden\n",
      "\n",
      "Downloading https://ossci-datasets.s3.amazonaws.com/mnist/train-images-idx3-ubyte.gz\n",
      "Downloading https://ossci-datasets.s3.amazonaws.com/mnist/train-images-idx3-ubyte.gz to ./data/MNIST/raw/train-images-idx3-ubyte.gz\n"
     ]
    },
    {
     "name": "stderr",
     "output_type": "stream",
     "text": [
      "100%|██████████| 9912422/9912422 [00:01<00:00, 6619808.08it/s]\n"
     ]
    },
    {
     "name": "stdout",
     "output_type": "stream",
     "text": [
      "Extracting ./data/MNIST/raw/train-images-idx3-ubyte.gz to ./data/MNIST/raw\n",
      "\n",
      "Downloading http://yann.lecun.com/exdb/mnist/train-labels-idx1-ubyte.gz\n",
      "Failed to download (trying next):\n",
      "HTTP Error 403: Forbidden\n",
      "\n",
      "Downloading https://ossci-datasets.s3.amazonaws.com/mnist/train-labels-idx1-ubyte.gz\n",
      "Downloading https://ossci-datasets.s3.amazonaws.com/mnist/train-labels-idx1-ubyte.gz to ./data/MNIST/raw/train-labels-idx1-ubyte.gz\n"
     ]
    },
    {
     "name": "stderr",
     "output_type": "stream",
     "text": [
      "100%|██████████| 28881/28881 [00:00<00:00, 433576.70it/s]\n"
     ]
    },
    {
     "name": "stdout",
     "output_type": "stream",
     "text": [
      "Extracting ./data/MNIST/raw/train-labels-idx1-ubyte.gz to ./data/MNIST/raw\n",
      "\n",
      "Downloading http://yann.lecun.com/exdb/mnist/t10k-images-idx3-ubyte.gz\n",
      "Failed to download (trying next):\n",
      "HTTP Error 403: Forbidden\n",
      "\n",
      "Downloading https://ossci-datasets.s3.amazonaws.com/mnist/t10k-images-idx3-ubyte.gz\n",
      "Downloading https://ossci-datasets.s3.amazonaws.com/mnist/t10k-images-idx3-ubyte.gz to ./data/MNIST/raw/t10k-images-idx3-ubyte.gz\n"
     ]
    },
    {
     "name": "stderr",
     "output_type": "stream",
     "text": [
      "100%|██████████| 1648877/1648877 [00:00<00:00, 3348354.07it/s]\n"
     ]
    },
    {
     "name": "stdout",
     "output_type": "stream",
     "text": [
      "Extracting ./data/MNIST/raw/t10k-images-idx3-ubyte.gz to ./data/MNIST/raw\n",
      "\n",
      "Downloading http://yann.lecun.com/exdb/mnist/t10k-labels-idx1-ubyte.gz\n",
      "Failed to download (trying next):\n",
      "HTTP Error 403: Forbidden\n",
      "\n",
      "Downloading https://ossci-datasets.s3.amazonaws.com/mnist/t10k-labels-idx1-ubyte.gz\n",
      "Downloading https://ossci-datasets.s3.amazonaws.com/mnist/t10k-labels-idx1-ubyte.gz to ./data/MNIST/raw/t10k-labels-idx1-ubyte.gz\n"
     ]
    },
    {
     "name": "stderr",
     "output_type": "stream",
     "text": [
      "100%|██████████| 4542/4542 [00:00<00:00, 3051991.15it/s]"
     ]
    },
    {
     "name": "stdout",
     "output_type": "stream",
     "text": [
      "Extracting ./data/MNIST/raw/t10k-labels-idx1-ubyte.gz to ./data/MNIST/raw\n",
      "\n"
     ]
    },
    {
     "name": "stderr",
     "output_type": "stream",
     "text": [
      "\n"
     ]
    }
   ],
   "source": [
    "#preprocess the MNIST dataset transform\n",
    "transform = transforms.Compose([\n",
    "    transforms.ToTensor(),\n",
    "    transforms.Normalize((0.1307,), (0.3081,))\n",
    "])\n",
    "\n",
    "\n",
    "# load data from pytorch dataset and apply transform\n",
    "train_dataset = torchvision.datasets.MNIST(root='./data', train=True, download=True, transform=transform)\n",
    "test_dataset = torchvision.datasets.MNIST(root='./data', train=False, download=True, transform=transform)\n",
    "\n",
    "\n",
    "# create dataloaders from data so it can be batched \n",
    "train_loader = DataLoader(train_dataset, batch_size=64, shuffle=True)\n",
    "test_loader = DataLoader(test_dataset, batch_size=1000, shuffle=False)"
   ]
  },
  {
   "cell_type": "code",
   "execution_count": 13,
   "metadata": {},
   "outputs": [
    {
     "name": "stdout",
     "output_type": "stream",
     "text": [
      "the label is 8\n"
     ]
    },
    {
     "data": {
      "image/png": "[encoded data removed]",
      "text/plain": [
       "<Figure size 640x480 with 1 Axes>"
      ]
     },
     "metadata": {},
     "output_type": "display_data"
    }
   ],
   "source": [
    "from matplotlib.pyplot import imshow\n",
    "\n",
    "tensor, labels = next(iter(train_loader))\n",
    "\n",
    "imshow(tensor[0].squeeze()), \n",
    "print(f\"the label is {labels[0]}\")"
   ]
  },
  {
   "cell_type": "code",
   "execution_count": 15,
   "metadata": {},
   "outputs": [],
   "source": [
    "\n",
    "# Define the CNN architecture for 28*28 images\n",
    "class MNISTClassifier(nn.Module):\n",
    "    def __init__(self):\n",
    "        super(MNISTClassifier, self).__init__()\n",
    "        self.conv1 = nn.Conv2d(1, 32, kernel_size=3, stride=1, padding=1)\n",
    "        self.relu1 = nn.ReLU()\n",
    "        self.pool1 = nn.MaxPool2d(kernel_size=2, stride=2)\n",
    "        self.conv2 = nn.Conv2d(32, 64, kernel_size=3, stride=1, padding=1)\n",
    "        self.relu2 = nn.ReLU()\n",
    "        self.pool2 = nn.MaxPool2d(kernel_size=2, stride=2)\n",
    "        self.fc1 = nn.Linear(64 * 7 * 7, 128)\n",
    "        self.relu3 = nn.ReLU()\n",
    "        self.fc2 = nn.Linear(128, 10)\n",
    "\n",
    "    def forward(self, x):\n",
    "        x = self.pool1(self.relu1(self.conv1(x)))\n",
    "        x = self.pool2(self.relu2(self.conv2(x)))\n",
    "        x = x.view(-1, 64 * 7 * 7)\n",
    "        x = self.relu3(self.fc1(x))\n",
    "        x = self.fc2(x)\n",
    "        return x\n",
    "\n",
    "# Set device"
   ]
  },
  {
   "cell_type": "code",
   "execution_count": null,
   "metadata": {},
   "outputs": [
    {
     "name": "stdout",
     "output_type": "stream",
     "text": [
      "mps\n"
     ]
    }
   ],
   "source": [
    "# device for gpu acceleration\n",
    "device = torch.device(\"cuda\" if torch.cuda.is_available() else \"mps\" if torch.backends.mps.is_available() else \"cpu\")\n",
    "print(device)\n",
    "\n",
    "# Initialize the model, loss function, and optimizer\n",
    "model = MNISTClassifier().to(device)\n",
    "criterion = nn.CrossEntropyLoss()\n",
    "optimizer = optim.Adam(model.parameters(), lr=0.001)"
   ]
  },
  {
   "cell_type": "code",
   "execution_count": 17,
   "metadata": {},
   "outputs": [
    {
     "name": "stdout",
     "output_type": "stream",
     "text": [
      "Epoch [1/10], Step [1/938], Loss: 2.3080\n",
      "Epoch [1/10], Step [101/938], Loss: 0.0540\n",
      "Epoch [1/10], Step [201/938], Loss: 0.0208\n",
      "Epoch [1/10], Step [301/938], Loss: 0.0546\n",
      "Epoch [1/10], Step [401/938], Loss: 0.0332\n",
      "Epoch [1/10], Step [501/938], Loss: 0.0600\n",
      "Epoch [1/10], Step [601/938], Loss: 0.1139\n",
      "Epoch [1/10], Step [701/938], Loss: 0.0161\n",
      "Epoch [1/10], Step [801/938], Loss: 0.0570\n",
      "Epoch [1/10], Step [901/938], Loss: 0.0161\n",
      "Epoch [2/10], Step [1/938], Loss: 0.0073\n",
      "Epoch [2/10], Step [101/938], Loss: 0.0791\n",
      "Epoch [2/10], Step [201/938], Loss: 0.0059\n",
      "Epoch [2/10], Step [301/938], Loss: 0.0264\n",
      "Epoch [2/10], Step [401/938], Loss: 0.0158\n",
      "Epoch [2/10], Step [501/938], Loss: 0.0278\n",
      "Epoch [2/10], Step [601/938], Loss: 0.0397\n",
      "Epoch [2/10], Step [701/938], Loss: 0.0795\n",
      "Epoch [2/10], Step [801/938], Loss: 0.0689\n",
      "Epoch [2/10], Step [901/938], Loss: 0.0197\n",
      "Epoch [3/10], Step [1/938], Loss: 0.0258\n",
      "Epoch [3/10], Step [101/938], Loss: 0.0417\n",
      "Epoch [3/10], Step [201/938], Loss: 0.0241\n",
      "Epoch [3/10], Step [301/938], Loss: 0.0204\n",
      "Epoch [3/10], Step [401/938], Loss: 0.0828\n",
      "Epoch [3/10], Step [501/938], Loss: 0.0128\n",
      "Epoch [3/10], Step [601/938], Loss: 0.0015\n",
      "Epoch [3/10], Step [701/938], Loss: 0.0013\n",
      "Epoch [3/10], Step [801/938], Loss: 0.0030\n",
      "Epoch [3/10], Step [901/938], Loss: 0.0148\n",
      "Epoch [4/10], Step [1/938], Loss: 0.0715\n",
      "Epoch [4/10], Step [101/938], Loss: 0.0142\n",
      "Epoch [4/10], Step [201/938], Loss: 0.0016\n",
      "Epoch [4/10], Step [301/938], Loss: 0.0027\n",
      "Epoch [4/10], Step [401/938], Loss: 0.0132\n",
      "Epoch [4/10], Step [501/938], Loss: 0.0179\n",
      "Epoch [4/10], Step [601/938], Loss: 0.0052\n",
      "Epoch [4/10], Step [701/938], Loss: 0.0148\n",
      "Epoch [4/10], Step [801/938], Loss: 0.0319\n",
      "Epoch [4/10], Step [901/938], Loss: 0.1946\n",
      "Epoch [5/10], Step [1/938], Loss: 0.0025\n",
      "Epoch [5/10], Step [101/938], Loss: 0.0037\n",
      "Epoch [5/10], Step [201/938], Loss: 0.0229\n",
      "Epoch [5/10], Step [301/938], Loss: 0.2507\n",
      "Epoch [5/10], Step [401/938], Loss: 0.0048\n",
      "Epoch [5/10], Step [501/938], Loss: 0.0201\n",
      "Epoch [5/10], Step [601/938], Loss: 0.0041\n",
      "Epoch [5/10], Step [701/938], Loss: 0.0102\n",
      "Epoch [5/10], Step [801/938], Loss: 0.0001\n",
      "Epoch [5/10], Step [901/938], Loss: 0.0109\n",
      "Epoch [6/10], Step [1/938], Loss: 0.0016\n",
      "Epoch [6/10], Step [101/938], Loss: 0.0017\n",
      "Epoch [6/10], Step [201/938], Loss: 0.0001\n",
      "Epoch [6/10], Step [301/938], Loss: 0.0013\n",
      "Epoch [6/10], Step [401/938], Loss: 0.0059\n",
      "Epoch [6/10], Step [501/938], Loss: 0.0040\n",
      "Epoch [6/10], Step [601/938], Loss: 0.0085\n",
      "Epoch [6/10], Step [701/938], Loss: 0.0295\n",
      "Epoch [6/10], Step [801/938], Loss: 0.0091\n",
      "Epoch [6/10], Step [901/938], Loss: 0.0020\n",
      "Epoch [7/10], Step [1/938], Loss: 0.0007\n",
      "Epoch [7/10], Step [101/938], Loss: 0.0019\n",
      "Epoch [7/10], Step [201/938], Loss: 0.0080\n",
      "Epoch [7/10], Step [301/938], Loss: 0.0000\n",
      "Epoch [7/10], Step [401/938], Loss: 0.0111\n",
      "Epoch [7/10], Step [501/938], Loss: 0.0026\n",
      "Epoch [7/10], Step [601/938], Loss: 0.0001\n",
      "Epoch [7/10], Step [701/938], Loss: 0.0317\n",
      "Epoch [7/10], Step [801/938], Loss: 0.0023\n",
      "Epoch [7/10], Step [901/938], Loss: 0.0128\n",
      "Epoch [8/10], Step [1/938], Loss: 0.0000\n",
      "Epoch [8/10], Step [101/938], Loss: 0.0003\n",
      "Epoch [8/10], Step [201/938], Loss: 0.0000\n",
      "Epoch [8/10], Step [301/938], Loss: 0.0001\n",
      "Epoch [8/10], Step [401/938], Loss: 0.0061\n",
      "Epoch [8/10], Step [501/938], Loss: 0.0217\n",
      "Epoch [8/10], Step [601/938], Loss: 0.0023\n",
      "Epoch [8/10], Step [701/938], Loss: 0.0002\n",
      "Epoch [8/10], Step [801/938], Loss: 0.0062\n",
      "Epoch [8/10], Step [901/938], Loss: 0.0006\n",
      "Epoch [9/10], Step [1/938], Loss: 0.0042\n",
      "Epoch [9/10], Step [101/938], Loss: 0.0583\n",
      "Epoch [9/10], Step [201/938], Loss: 0.0038\n",
      "Epoch [9/10], Step [301/938], Loss: 0.0014\n",
      "Epoch [9/10], Step [401/938], Loss: 0.0001\n",
      "Epoch [9/10], Step [501/938], Loss: 0.0001\n",
      "Epoch [9/10], Step [601/938], Loss: 0.0034\n",
      "Epoch [9/10], Step [701/938], Loss: 0.0037\n",
      "Epoch [9/10], Step [801/938], Loss: 0.0066\n",
      "Epoch [9/10], Step [901/938], Loss: 0.0019\n",
      "Epoch [10/10], Step [1/938], Loss: 0.0000\n",
      "Epoch [10/10], Step [101/938], Loss: 0.1476\n",
      "Epoch [10/10], Step [201/938], Loss: 0.0022\n",
      "Epoch [10/10], Step [301/938], Loss: 0.0001\n",
      "Epoch [10/10], Step [401/938], Loss: 0.0638\n",
      "Epoch [10/10], Step [501/938], Loss: 0.0015\n",
      "Epoch [10/10], Step [601/938], Loss: 0.0267\n",
      "Epoch [10/10], Step [701/938], Loss: 0.0059\n",
      "Epoch [10/10], Step [801/938], Loss: 0.0002\n",
      "Epoch [10/10], Step [901/938], Loss: 0.0018\n",
      "Accuracy on the test set: 99.15%\n"
     ]
    }
   ],
   "source": [
    "num_epochs = 10\n",
    "\n",
    "# train loop\n",
    "for epoch in range(num_epochs):\n",
    "    # model mode\n",
    "    model.train()\n",
    "    for batch_idx, (data, targets) in enumerate(train_loader):\n",
    "        # data to device\n",
    "        data, targets = data.to(device), targets.to(device)\n",
    "        \n",
    "        # get rid of prior grad\n",
    "        optimizer.zero_grad()\n",
    "        # forward pass\n",
    "        outputs = model(data)\n",
    "        # calc loos\n",
    "        loss = criterion(outputs, targets)\n",
    "        # back pass\n",
    "        loss.backward()\n",
    "        # update weights \n",
    "        optimizer.step()\n",
    "        \n",
    "    \n",
    "        if batch_idx % 100 == 0:\n",
    "            print(f'Epoch [{epoch+1}/{num_epochs}], Step [{batch_idx+1}/{len(train_loader)}], Loss: {loss.item():.4f}')\n",
    "\n",
    "# Evaluation\n",
    "model.eval()\n",
    "correct = 0\n",
    "total = 0\n",
    "# save compute with no grad and model.eval()\n",
    "with torch.no_grad():\n",
    "    for data, targets in test_loader:\n",
    "        # data to device\n",
    "        data, targets = data.to(device), targets.to(device)\n",
    "        outputs = model(data)\n",
    "        # take highest pred and add to score\n",
    "        _, predicted = torch.max(outputs.data, 1)\n",
    "        total += targets.size(0)\n",
    "        correct += (predicted == targets).sum().item()\n",
    "\n",
    "print(f'Accuracy on the test set: {100 * correct / total:.2f}%')"
   ]
  },
  {
   "cell_type": "code",
   "execution_count": 27,
   "metadata": {},
   "outputs": [
    {
     "name": "stdout",
     "output_type": "stream",
     "text": [
      "LABEL 3\n",
      "prediction 3\n"
     ]
    },
    {
     "data": {
      "image/png": "[encoded data removed]",
      "text/plain": [
       "<Figure size 640x480 with 1 Axes>"
      ]
     },
     "metadata": {},
     "output_type": "display_data"
    }
   ],
   "source": [
    "import numpy as np\n",
    "\n",
    "# Validate data post model\n",
    "data, labels = next(iter(test_loader))\n",
    "\n",
    "len_data = data.shape[0]\n",
    "len_data\n",
    "index = np.random.randint(len_data)\n",
    "\n",
    "print(f\"LABEL {labels[index]}\")\n",
    "imshow(data[index].squeeze())\n",
    "\n",
    "pred = torch.argmax(model(data[index].to(device)))\n",
    "\n",
    "print(f\"prediction {pred}\")"
   ]
  },
  {
   "cell_type": "code",
   "execution_count": null,
   "metadata": {},
   "outputs": [],
   "source": []
  }
 ],
 "metadata": {
  "kernelspec": {
   "display_name": "Python 3",
   "language": "python",
   "name": "python3"
  },
  "language_info": {
   "codemirror_mode": {
    "name": "ipython",
    "version": 3
   },
   "file_extension": ".py",
   "mimetype": "text/x-python",
   "name": "python",
   "nbconvert_exporter": "python",
   "pygments_lexer": "ipython3",
   "version": "3.11.4"
  }
 },
 "nbformat": 4,
 "nbformat_minor": 2
}
